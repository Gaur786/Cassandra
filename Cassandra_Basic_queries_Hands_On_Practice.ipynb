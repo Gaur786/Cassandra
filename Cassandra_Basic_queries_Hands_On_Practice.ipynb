{
 "cells": [
  {
   "cell_type": "code",
   "execution_count": 1,
   "id": "f08e75b3-f154-4098-b6d4-ad98bfb8f80f",
   "metadata": {},
   "outputs": [
    {
     "name": "stdout",
     "output_type": "stream",
     "text": [
      "Hello World\n"
     ]
    }
   ],
   "source": [
    "print(\"Hello World\")"
   ]
  },
  {
   "cell_type": "code",
   "execution_count": 4,
   "id": "4edc355b-b5ac-4b23-86d6-a76af7527dcb",
   "metadata": {},
   "outputs": [
    {
     "name": "stdout",
     "output_type": "stream",
     "text": [
      "Collecting cassandra-driver\n",
      "  Downloading cassandra_driver-3.25.0-cp310-cp310-manylinux_2_12_x86_64.manylinux2010_x86_64.whl (3.7 MB)\n",
      "\u001b[2K     \u001b[90m━━━━━━━━━━━━━━━━━━━━━━━━━━━━━━━━━━━━━━━━\u001b[0m \u001b[32m3.7/3.7 MB\u001b[0m \u001b[31m66.5 MB/s\u001b[0m eta \u001b[36m0:00:00\u001b[0mta \u001b[36m0:00:01\u001b[0m\n",
      "\u001b[?25hRequirement already satisfied: six>=1.9 in /opt/conda/lib/python3.10/site-packages (from cassandra-driver) (1.16.0)\n",
      "Collecting geomet<0.3,>=0.1\n",
      "  Downloading geomet-0.2.1.post1-py3-none-any.whl (18 kB)\n",
      "Requirement already satisfied: click in /opt/conda/lib/python3.10/site-packages (from geomet<0.3,>=0.1->cassandra-driver) (8.1.3)\n",
      "Installing collected packages: geomet, cassandra-driver\n",
      "Successfully installed cassandra-driver-3.25.0 geomet-0.2.1.post1\n",
      "Note: you may need to restart the kernel to use updated packages.\n"
     ]
    }
   ],
   "source": [
    "pip install cassandra-driver\n"
   ]
  },
  {
   "cell_type": "code",
   "execution_count": 5,
   "id": "860513c1-e066-4c3d-9306-a1e7471713c3",
   "metadata": {},
   "outputs": [
    {
     "name": "stdout",
     "output_type": "stream",
     "text": [
      "3.25.0\n"
     ]
    }
   ],
   "source": [
    " import cassandra; \n",
    "print (cassandra.__version__)\n"
   ]
  },
  {
   "cell_type": "code",
   "execution_count": 6,
   "id": "dd8650e4-77d3-4ee7-bdf4-4456420aaa98",
   "metadata": {},
   "outputs": [
    {
     "name": "stdout",
     "output_type": "stream",
     "text": [
      "4.0.0.6816\n"
     ]
    }
   ],
   "source": [
    "from cassandra.cluster import Cluster\n",
    "from cassandra.auth import PlainTextAuthProvider\n",
    "\n",
    "cloud_config= {\n",
    "         'secure_connect_bundle': 'cassandra_Secure_Bundle.zip'\n",
    "}\n",
    "auth_provider = PlainTextAuthProvider('poFbwnHssXZqLgSgvAwlXNzH', '7.USD3ikfZfHdkY.GZmr+oop2Fburazw-fW8CRcpiiZvhb9og+,TjLN,RdmL,4XPUlG1zu8wj.2y.61dE,Z_EKctm38ahtM25S_Gje86sPoH,FeC6A2BTonubcjg+B_c')\n",
    "cluster = Cluster(cloud=cloud_config, auth_provider=auth_provider)\n",
    "session = cluster.connect()\n",
    "\n",
    "row = session.execute(\"select release_version from system.local\").one()\n",
    "if row:\n",
    "      print(row[0])\n",
    "else:\n",
    "      print(\"An error occurred.\")"
   ]
  },
  {
   "cell_type": "code",
   "execution_count": 25,
   "id": "3c4b67ce-e454-45f4-b1a9-09c51ea18e87",
   "metadata": {},
   "outputs": [
    {
     "name": "stdout",
     "output_type": "stream",
     "text": [
      "Exception Occured while adding the column:  Error from server: code=2200 [Invalid query] message=\"Table 'test_keyspace.employee' doesn't exist\"\n"
     ]
    }
   ],
   "source": [
    "# Alter the table in cassandra to add a new column\n",
    "try:\n",
    "    query = \"alter table employee add emp_email text\"\n",
    "    session.execute(query)\n",
    "    print(\"Column added successfully !!\")\n",
    "except Exception as err:\n",
    "    print(\"Exception Occured while adding the column: \",err)"
   ]
  },
  {
   "cell_type": "code",
   "execution_count": 27,
   "id": "77288944-2952-453d-87b2-b22a51772a3d",
   "metadata": {},
   "outputs": [
    {
     "name": "stdout",
     "output_type": "stream",
     "text": [
      "Exception Occured while dropping the Keyspace :  Error from server: code=2100 [Unauthorized] message=\"Missing correct permission on employee_management.: Keyspace management is currently only supported at https://astra.datastax.com/org/598b8917-b6d4-4d1a-935b-fc7df8ff19a4/database/08080030-950f-4e03-8976-c1e821546ba3\"\n"
     ]
    }
   ],
   "source": [
    "# Command to Drop the keyspace in Cassandra\n",
    "try:\n",
    "    query = \"drop keyspace employee_management\"\n",
    "    session.execute(query)\n",
    "    print(\"Keyspace Dropped Successfully !!\")\n",
    "except Exception as err:\n",
    "    print(\"Exception Occured while dropping the Keyspace : \",err)"
   ]
  },
  {
   "cell_type": "code",
   "execution_count": 7,
   "id": "a0466ac2-f6ae-425c-ac43-f5d39eedb6ab",
   "metadata": {},
   "outputs": [
    {
     "name": "stdout",
     "output_type": "stream",
     "text": [
      "Inside the keyspace\n"
     ]
    }
   ],
   "source": [
    "# Command to use a keyspace\n",
    "try:\n",
    "    query = \"use test_keyspace\"\n",
    "    session.execute(query)\n",
    "    print(\"Inside the keyspace\")\n",
    "except Exception as err:\n",
    "    print(\"Exception Occured while using Keyspace : \",err)"
   ]
  },
  {
   "cell_type": "code",
   "execution_count": 26,
   "id": "66ffc3f4-b836-4df5-86a9-436090f9eb27",
   "metadata": {},
   "outputs": [
    {
     "name": "stdout",
     "output_type": "stream",
     "text": [
      " Tbale Created Inside the keyspace\n"
     ]
    }
   ],
   "source": [
    "# Command to create a table\n",
    "try:\n",
    "    query =\"\"\" \n",
    "              create table employee(\n",
    "                emp_id int,\n",
    "                emp_name varchar,\n",
    "                emp_salary int,\n",
    "                emp_dept varchar,\n",
    "                emp_email varchar,\n",
    "                emp_phone varchar,\n",
    "                primary key (emp_id, emp_dept)\n",
    "              )\n",
    "    \"\"\"\n",
    "    session.execute(query)\n",
    "    print(\" Table Created Inside the keyspace\")\n",
    "except Exception as err:\n",
    "    print(\"Exception Occured while using Keyspace : \",err)"
   ]
  },
  {
   "cell_type": "code",
   "execution_count": 29,
   "id": "6bb82fed-2f99-441c-92e6-4941dfaadd3c",
   "metadata": {},
   "outputs": [
    {
     "name": "stdout",
     "output_type": "stream",
     "text": [
      "Column dropped successfully !!\n"
     ]
    }
   ],
   "source": [
    "# Alter the table in cassandra to add a new column\n",
    "try:\n",
    "    query = \"alter table employee drop emp_email\"\n",
    "    session.execute(query)\n",
    "    print(\"Column dropped successfully !!\")\n",
    "except Exception as err:\n",
    "    print(\"Exception Occured while dropping the column: \",err)"
   ]
  },
  {
   "cell_type": "code",
   "execution_count": 32,
   "id": "bfff5ac4-d804-4f2b-818d-1383065e97c3",
   "metadata": {},
   "outputs": [
    {
     "name": "stdout",
     "output_type": "stream",
     "text": [
      "Keyspace added Successfully !!\n"
     ]
    }
   ],
   "source": [
    "# Command to Drop the keyspace in Cassandra\n",
    "try:\n",
    "    query = \"alter table employee add emp_email text\"\n",
    "    session.execute(query)\n",
    "    print(\"Keyspace added Successfully !!\")\n",
    "except Exception as err:\n",
    "    print(\"Exception Occured while adding the Keyspace : \",err)"
   ]
  },
  {
   "cell_type": "code",
   "execution_count": 8,
   "id": "aa1bdc0f-1890-4ddb-a1a7-8ac21f3d2971",
   "metadata": {},
   "outputs": [
    {
     "name": "stdout",
     "output_type": "stream",
     "text": [
      "data inserted Successfully!!\n"
     ]
    }
   ],
   "source": [
    "# Insert Data Into Cassandra\n",
    "\n",
    "try:\n",
    "    query = \"insert into employee(emp_id, emp_name, emp_salary, emp_dept, emp_email, emp_phone) values(1, 'Shashank', 10000, 'Software', 'abc.gmail.com','+91 768467474')\"\n",
    "    session.execute(query)\n",
    "    print(\"data inserted Successfully!!\")\n",
    "except Exception as err:\n",
    "    print(\"Error Occur while inserting the data\",err)"
   ]
  },
  {
   "cell_type": "code",
   "execution_count": 9,
   "id": "396cf974-7ba3-476d-ba18-4841b3566e4e",
   "metadata": {},
   "outputs": [
    {
     "name": "stdout",
     "output_type": "stream",
     "text": [
      "data inserted Successfully!!\n"
     ]
    }
   ],
   "source": [
    "try:\n",
    "    query = \"insert into employee(emp_id, emp_name, emp_salary, emp_dept, emp_email, emp_phone) values(2, 'Rahul', 20000, 'IT', 'xyx.gmail.com','+91 908467474')\"\n",
    "    session.execute(query)\n",
    "    print(\"data inserted Successfully!!\")  \n",
    "except Exception as err:\n",
    "       print(\"Error Occur while inserting the data\",err)"
   ]
  },
  {
   "cell_type": "code",
   "execution_count": 10,
   "id": "b416898d-e8c7-424d-9f51-721062e33654",
   "metadata": {},
   "outputs": [
    {
     "name": "stdout",
     "output_type": "stream",
     "text": [
      "data inserted Successfully!!\n"
     ]
    }
   ],
   "source": [
    "try:\n",
    "    query = \"insert into employee(emp_id, emp_name, emp_salary, emp_dept, emp_email, emp_phone) values(3, 'Sunny', 22000, 'HR', 'klm.gmail.com','+91 800067474')\"\n",
    "    session.execute(query)\n",
    "    print(\"data inserted Successfully!!\")  \n",
    "except Exception as err:\n",
    "       print(\"Error Occur while inserting the data\",err)"
   ]
  },
  {
   "cell_type": "code",
   "execution_count": 11,
   "id": "99d5447e-9994-4700-8294-7287f5cdb765",
   "metadata": {},
   "outputs": [
    {
     "name": "stdout",
     "output_type": "stream",
     "text": [
      "data inserted Successfully!!\n"
     ]
    }
   ],
   "source": [
    "try:\n",
    "    query = \"insert into employee(emp_id, emp_name, emp_salary, emp_dept, emp_email, emp_phone) values(4, 'Vishal', 30000, 'Software', 'mno.gmail.com','+91 600467474')\"\n",
    "    session.execute(query)\n",
    "    print(\"data inserted Successfully!!\")  \n",
    "except Exception as err:\n",
    "       print(\"Error Occur while inserting the data\",err)"
   ]
  },
  {
   "cell_type": "code",
   "execution_count": 15,
   "id": "91d73234-3d1c-4f77-ac99-8a137c6f3b17",
   "metadata": {},
   "outputs": [
    {
     "name": "stdout",
     "output_type": "stream",
     "text": [
      "Row(emp_id=1, emp_dept='Software', emp_email='abc.gmail.com', emp_name='Shashank', emp_phone='+91 768467474', emp_salary=10000)\n",
      "Row(emp_id=2, emp_dept='IT', emp_email='xyx.gmail.com', emp_name='Rahul', emp_phone='+91 908467474', emp_salary=20000)\n",
      "Row(emp_id=4, emp_dept='Software', emp_email='mno.gmail.com', emp_name='Vishal', emp_phone='+91 600467474', emp_salary=30000)\n",
      "Row(emp_id=3, emp_dept='HR', emp_email='klm.gmail.com', emp_name='Sunny', emp_phone='+91 800067474', emp_salary=22000)\n"
     ]
    }
   ],
   "source": [
    "# Select query on cassandra table\n",
    "\n",
    "try:\n",
    "    query = \"select * from employee\"\n",
    "    result= session.execute(query)\n",
    "    for row in result:\n",
    "        print(row)\n",
    "    \n",
    "except Exception as err:\n",
    "    print(\"Error Occur in select command\",err)"
   ]
  },
  {
   "cell_type": "code",
   "execution_count": 19,
   "id": "8f478fc8-79c0-4aed-b5dc-f3bfcc7db99a",
   "metadata": {},
   "outputs": [
    {
     "name": "stdout",
     "output_type": "stream",
     "text": [
      "Row(emp_id=1, emp_name='Shashank', emp_salary=10000)\n",
      "Row(emp_id=2, emp_name='Rahul', emp_salary=20000)\n",
      "Row(emp_id=4, emp_name='Vishal', emp_salary=30000)\n",
      "Row(emp_id=3, emp_name='Sunny', emp_salary=22000)\n"
     ]
    }
   ],
   "source": [
    "# Select query for specific columns in cassandra table\n",
    "\n",
    "try:\n",
    "    query = \"select emp_id, emp_name,emp_salary from employee\"\n",
    "    result= session.execute(query)\n",
    "    for row in result:\n",
    "        print(row)\n",
    "    \n",
    "except Exception as err:\n",
    "    print(\"Error Occur in select command\",err)"
   ]
  },
  {
   "cell_type": "code",
   "execution_count": 22,
   "id": "a9a8d617-b393-441a-be9f-cfec1626bc01",
   "metadata": {},
   "outputs": [
    {
     "name": "stdout",
     "output_type": "stream",
     "text": [
      "emp_id : 1\n",
      "emp_name : Shashank\n",
      "emp_salary : 10000\n",
      "emp_id : 2\n",
      "emp_name : Rahul\n",
      "emp_salary : 20000\n",
      "emp_id : 4\n",
      "emp_name : Vishal\n",
      "emp_salary : 30000\n",
      "emp_id : 3\n",
      "emp_name : Sunny\n",
      "emp_salary : 22000\n"
     ]
    }
   ],
   "source": [
    "# Select query for specific columns in cassandra table and how to access from Row object\n",
    "\n",
    "try:\n",
    "    query = \"select emp_id, emp_name,emp_salary from employee\"\n",
    "    result= session.execute(query)\n",
    "    for row in result:\n",
    "        print(\"emp_id :\",row[0])\n",
    "        print(\"emp_name :\",row[1])\n",
    "        print(\"emp_salary :\",row[2])\n",
    "    \n",
    "except Exception as err:\n",
    "    print(\"Error Occur in select command\",err)"
   ]
  },
  {
   "cell_type": "code",
   "execution_count": 23,
   "id": "b3d4699b-c17c-4cab-a9b2-f7cbbb6a6972",
   "metadata": {},
   "outputs": [
    {
     "name": "stdout",
     "output_type": "stream",
     "text": [
      "Exception Occured while selecting the data from table:  tuple indices must be integers or slices, not str\n"
     ]
    }
   ],
   "source": [
    "# Select query for specific columns in cassandra table and how to access from Row object\n",
    "# Doesn't work\n",
    "\n",
    "\n",
    "try:\n",
    "    query = \"select emp_id, emp_name from employee\"\n",
    "    result = session.execute(query)\n",
    "    # option 2\n",
    "    for row in result:\n",
    "        print(\"Emp ID : \", row['emp_id'])\n",
    "        print(\"Emp Name : \", row['emp_name'])\n",
    "except Exception as err:\n",
    "    print(\"Exception Occured while selecting the data from table: \",err)"
   ]
  },
  {
   "cell_type": "code",
   "execution_count": 26,
   "id": "e29e95dd-5911-46ca-831f-9df04c54ec5f",
   "metadata": {},
   "outputs": [
    {
     "name": "stdout",
     "output_type": "stream",
     "text": [
      "Method 1 : Row(count=4)\n",
      "Method 2 : 4\n"
     ]
    }
   ],
   "source": [
    "# Write a query to get total count of employees\n",
    "\n",
    "try:\n",
    "    query = \" select count(*) from employee\"\n",
    "    result = session.execute(query)\n",
    "    for row in result:\n",
    "        print(\"Method 1 :\",row)\n",
    "        print(\"Method 2 :\",row[0])\n",
    "\n",
    "except Exception as err:\n",
    "    print(\"Exception occur while selecting the data\",err)"
   ]
  },
  {
   "cell_type": "code",
   "execution_count": 30,
   "id": "8355d4ba-d48d-4f31-bb1a-78f4fa4f8e47",
   "metadata": {},
   "outputs": [
    {
     "name": "stdout",
     "output_type": "stream",
     "text": [
      "30000\n"
     ]
    }
   ],
   "source": [
    "# Write a query to find maximum salary from employee table\n",
    "\n",
    "try:\n",
    "    query = \" select max(emp_salary) from employee\"\n",
    "    result = session.execute(query)\n",
    "    for row in result:\n",
    "        print(row[0])\n",
    "       \n",
    "\n",
    "except Exception as err:\n",
    "    print(\"Exception occur while selecting the data\",err)"
   ]
  },
  {
   "cell_type": "code",
   "execution_count": 32,
   "id": "48c4b966-3e5c-41b5-ab22-717767b57be6",
   "metadata": {},
   "outputs": [
    {
     "name": "stdout",
     "output_type": "stream",
     "text": [
      "Row(emp_id=3, emp_dept='HR', emp_email='klm.gmail.com', emp_name='Sunny', emp_phone='+91 800067474', emp_salary=22000)\n"
     ]
    }
   ],
   "source": [
    "# Write a query to filter data from cassandra table or how to use where clause\n",
    "# Rules for where clause - It can be used effectively with high performance for given below type of columns\n",
    "# 1.) Partition Key (Single or Composite)\n",
    "                   #OR\n",
    "# 2.) if Cluster column  used in where clause then it should be with Partition Key\n",
    "                   #OR\n",
    "# 3.) A column on which we have applied the index\n",
    "                   #OR\n",
    "# 4.) A column which is not part of partition key or index column or clustering column then we can use where clause but we have to\n",
    "# use keyword ALLOW FILTERING - it will be a super slow performance when data volume is very high\n",
    "\n",
    "\n",
    "try:\n",
    "    query = \"select * from employee where emp_name='Sunny' ALLOW FILTERING\"\n",
    "    result = session.execute(query)\n",
    "    row = result.one()\n",
    "    print(row)\n",
    "except Exception as err:\n",
    "    print(\"Exception Occured while selecting the data from table: \",err)"
   ]
  },
  {
   "cell_type": "code",
   "execution_count": 39,
   "id": "15dab27a-6aab-4859-ba36-dddfe6ab4b6f",
   "metadata": {},
   "outputs": [
    {
     "name": "stdout",
     "output_type": "stream",
     "text": [
      "Row(emp_id=3, emp_dept='HR', emp_email='klm.gmail.com', emp_name='Sunny', emp_phone='+91 800067474', emp_salary=22000)\n"
     ]
    }
   ],
   "source": [
    "# where clause for Partition key only or Rule no -1\n",
    "\n",
    "try:\n",
    "    query = \"select * from employee where emp_id=3\"\n",
    "    result = session.execute(query)\n",
    "    row = result.one()\n",
    "    print(row)\n",
    "except Exception as err:\n",
    "    print(\"Exception Occured while selecting the data from table: \",err)"
   ]
  },
  {
   "cell_type": "code",
   "execution_count": 40,
   "id": "898633c6-0843-41bd-a98a-a05f4c1ecb65",
   "metadata": {},
   "outputs": [
    {
     "name": "stdout",
     "output_type": "stream",
     "text": [
      "Row(emp_id=1, emp_dept='Software', emp_email='abc.gmail.com', emp_name='Shashank', emp_phone='+91 768467474', emp_salary=10000)\n"
     ]
    }
   ],
   "source": [
    "# where clause for Clustering key only or Rule no - 2 \n",
    "\n",
    "try:\n",
    "    query = \"select * from employee where emp_dept='Software' and emp_id=1\"\n",
    "    result = session.execute(query)\n",
    "    row = result.one()\n",
    "    print(row)\n",
    "except Exception as err:\n",
    "    print(\"Exception Occured while selecting the data from table: \",err)"
   ]
  },
  {
   "cell_type": "code",
   "execution_count": 42,
   "id": "ee9e5933-c6ee-4e1c-a82a-070c373ce591",
   "metadata": {},
   "outputs": [
    {
     "ename": "SyntaxError",
     "evalue": "invalid syntax (392236875.py, line 3)",
     "output_type": "error",
     "traceback": [
      "\u001b[0;36m  Cell \u001b[0;32mIn [42], line 3\u001b[0;36m\u001b[0m\n\u001b[0;31m    priamry key ( (employeeid, fname) , dept )\u001b[0m\n\u001b[0m            ^\u001b[0m\n\u001b[0;31mSyntaxError\u001b[0m\u001b[0;31m:\u001b[0m invalid syntax\n"
     ]
    }
   ],
   "source": [
    "# We have another composite partition key\n",
    "\n",
    "priamry key ( (employeeid, fname) , dept )\n",
    "\n",
    "select * from employee where employeeid = 'x' and dept = 'software' and fname = 'shashank'  # Wrong query\n",
    "\n",
    "select * from employee where dept = 'software' and employeeid = 'x' and fname = 'shashank'   # Correct query"
   ]
  },
  {
   "cell_type": "code",
   "execution_count": 54,
   "id": "517ce339-baf4-4a3a-a524-757c296b5a63",
   "metadata": {},
   "outputs": [
    {
     "name": "stdout",
     "output_type": "stream",
     "text": [
      "Row(emp_id=1, emp_dept='Software', emp_email='abc.gmail.com', emp_name='Shashank', emp_phone='+91 768467474', emp_salary=10000)\n"
     ]
    }
   ],
   "source": [
    "try:\n",
    "    query = \"select * from employee where emp_dept = 'Software' and emp_id = 1 \"\n",
    "    result = session.execute(query)\n",
    "    row = result.one()\n",
    "    print(row)\n",
    "except Exception as err:\n",
    "    print(\"Exception Occured while selecting the data from table: \",err)"
   ]
  },
  {
   "cell_type": "code",
   "execution_count": 67,
   "id": "bc4946d4-0313-4f4f-bd41-0deacfc39f7c",
   "metadata": {},
   "outputs": [
    {
     "name": "stdout",
     "output_type": "stream",
     "text": [
      "Row(emp_id=1, sum_salary=10000)\n"
     ]
    }
   ],
   "source": [
    "# Group by in cassandra  -  Allowed for all columns which are part of Primary Key\n",
    "# Follow given below rules\n",
    "# Rule - 1 : Use only partition key in the group by\n",
    "              #OR\n",
    "# Rule - 2 : if Cluster key column is used then follow the actual declared sequence in the primary key\n",
    "\n",
    "try:\n",
    "    query = \"select emp_id, sum(emp_salary) as sum_salary from employee group by emp_id\"\n",
    "    result = session.execute(query)\n",
    "    row = result.one()\n",
    "    print(row)\n",
    "except Exception as err:\n",
    "    print(\"Exception Occured while selecting the data from table: \",err)"
   ]
  },
  {
   "cell_type": "code",
   "execution_count": 68,
   "id": "fb481256-475f-4f96-b540-d21765347314",
   "metadata": {},
   "outputs": [
    {
     "name": "stdout",
     "output_type": "stream",
     "text": [
      "[Row(emp_id=1, sum_salary=10000), Row(emp_id=2, sum_salary=20000), Row(emp_id=4, sum_salary=30000), Row(emp_id=3, sum_salary=22000)]\n"
     ]
    }
   ],
   "source": [
    "try:\n",
    "    query = \"select emp_id, sum(emp_salary) as sum_salary from employee group by emp_id\"\n",
    "    result = session.execute(query)\n",
    "    for row in result:\n",
    "            row = result.all()\n",
    "            print(row)\n",
    "                   \n",
    "except Exception as err:\n",
    "    print(\"Exception Occured while selecting the data from table: \",err)"
   ]
  },
  {
   "cell_type": "code",
   "execution_count": 71,
   "id": "142177c8-9c85-4e49-8785-6384541f475a",
   "metadata": {},
   "outputs": [
    {
     "name": "stdout",
     "output_type": "stream",
     "text": [
      "[Row(emp_id=1, emp_dept='Software', sum_salary=10000), Row(emp_id=2, emp_dept='IT', sum_salary=20000), Row(emp_id=4, emp_dept='Software', sum_salary=30000), Row(emp_id=3, emp_dept='HR', sum_salary=22000)]\n"
     ]
    }
   ],
   "source": [
    "#Group by in cassandra \n",
    "# Rule - 2 : if Clustering key column is used then follow the actual declared sequence in the primary key\n",
    "try:\n",
    "    query = \"select emp_id, emp_dept, sum(emp_salary) as sum_salary from employee group by emp_id, emp_dept\"\n",
    "    result = session.execute(query)\n",
    "    row = result.all()\n",
    "    print(row)\n",
    "except Exception as err:\n",
    "    print(\"Exception Occured while selecting the data from table: \",err)"
   ]
  },
  {
   "cell_type": "code",
   "execution_count": null,
   "id": "8d26893f-7ecc-48e2-8a6f-f52ee5abc670",
   "metadata": {},
   "outputs": [],
   "source": [
    "#"
   ]
  }
 ],
 "metadata": {
  "kernelspec": {
   "display_name": "Python 3 (ipykernel)",
   "language": "python",
   "name": "python3"
  },
  "language_info": {
   "codemirror_mode": {
    "name": "ipython",
    "version": 3
   },
   "file_extension": ".py",
   "mimetype": "text/x-python",
   "name": "python",
   "nbconvert_exporter": "python",
   "pygments_lexer": "ipython3",
   "version": "3.10.6"
  }
 },
 "nbformat": 4,
 "nbformat_minor": 5
}
